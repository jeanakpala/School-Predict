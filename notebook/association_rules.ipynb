{
 "cells": [
  {
   "cell_type": "markdown",
   "metadata": {},
   "source": [
    "# OULAD : Règles d'Association pour Découvrir les Schémas d'Abandon\n",
    "\n",
    "Ce notebook utilise l'algorithme Apriori pour découvrir des schémas de comportements menant à l'abandon scolaire (étudiants ayant abandonné ou échoué) dans le jeu de données Open University Learning Analytics Dataset (OULAD). Les règles d'association identifient des relations fréquentes entre les caractéristiques démographiques, académiques et d'engagement, et le risque d'abandon (`at_risk = 1`)."
   ]
  },
  {
   "cell_type": "code",
   "execution_count": 4,
   "metadata": {},
   "outputs": [],
   "source": [
    "# Importer les bibliothèques\n",
    "import pandas as pd\n",
    "import numpy as np\n",
    "import matplotlib.pyplot as plt\n",
    "import seaborn as sns\n",
    "from mlxtend.frequent_patterns import apriori, association_rules\n",
    "\n",
    "# Configurer le style des graphiques\n",
    "plt.style.use('seaborn-v0_8') \n",
    "sns.set_palette('viridis')\n",
    "%matplotlib inline"
   ]
  },
  {
   "cell_type": "markdown",
   "metadata": {},
   "source": [
    "## Chargement des Données\n",
    "\n",
    "Charger le jeu de données prétraité (`oulad_preprocessed.csv`) ou recréer à partir des fichiers CSV OULAD si nécessaire."
   ]
  },
  {
   "cell_type": "code",
   "execution_count": 5,
   "metadata": {},
   "outputs": [
    {
     "name": "stdout",
     "output_type": "stream",
     "text": [
      "Jeu de données prétraité chargé depuis oulad_preprocessed.csv\n"
     ]
    },
    {
     "data": {
      "application/vnd.microsoft.datawrangler.viewer.v0+json": {
       "columns": [
        {
         "name": "index",
         "rawType": "int64",
         "type": "integer"
        },
        {
         "name": "code_module",
         "rawType": "object",
         "type": "string"
        },
        {
         "name": "code_presentation",
         "rawType": "object",
         "type": "string"
        },
        {
         "name": "id_student",
         "rawType": "int64",
         "type": "integer"
        },
        {
         "name": "gender",
         "rawType": "int64",
         "type": "integer"
        },
        {
         "name": "region",
         "rawType": "object",
         "type": "string"
        },
        {
         "name": "highest_education",
         "rawType": "int64",
         "type": "integer"
        },
        {
         "name": "imd_band",
         "rawType": "float64",
         "type": "float"
        },
        {
         "name": "age_band",
         "rawType": "object",
         "type": "string"
        },
        {
         "name": "num_of_prev_attempts",
         "rawType": "int64",
         "type": "integer"
        },
        {
         "name": "studied_credits",
         "rawType": "int64",
         "type": "integer"
        },
        {
         "name": "disability",
         "rawType": "int64",
         "type": "integer"
        },
        {
         "name": "final_result",
         "rawType": "object",
         "type": "string"
        },
        {
         "name": "score",
         "rawType": "float64",
         "type": "float"
        },
        {
         "name": "total_clicks",
         "rawType": "float64",
         "type": "float"
        },
        {
         "name": "at_risk",
         "rawType": "int64",
         "type": "integer"
        }
       ],
       "ref": "48f8126e-897b-47dd-aece-8c414a3a7a33",
       "rows": [
        [
         "0",
         "AAA",
         "2013J",
         "11391",
         "0",
         "East Anglian Region",
         "3",
         "90.0",
         "55<=",
         "0",
         "240",
         "0",
         "Pass",
         "82.0",
         "934.0",
         "0"
        ],
        [
         "1",
         "AAA",
         "2013J",
         "28400",
         "1",
         "Scotland",
         "3",
         "20.0",
         "35-55",
         "0",
         "60",
         "0",
         "Pass",
         "66.4",
         "1435.0",
         "0"
        ],
        [
         "2",
         "AAA",
         "2013J",
         "30268",
         "1",
         "North Western Region",
         "2",
         "30.0",
         "35-55",
         "0",
         "60",
         "1",
         "Withdrawn",
         "72.76825367323528",
         "281.0",
         "1"
        ],
        [
         "3",
         "AAA",
         "2013J",
         "31604",
         "1",
         "South East Region",
         "2",
         "50.0",
         "35-55",
         "0",
         "60",
         "0",
         "Pass",
         "76.0",
         "2158.0",
         "0"
        ],
        [
         "4",
         "AAA",
         "2013J",
         "32885",
         "1",
         "West Midlands Region",
         "1",
         "50.0",
         "0-35",
         "0",
         "60",
         "0",
         "Pass",
         "54.4",
         "1034.0",
         "0"
        ]
       ],
       "shape": {
        "columns": 15,
        "rows": 5
       }
      },
      "text/html": [
       "<div>\n",
       "<style scoped>\n",
       "    .dataframe tbody tr th:only-of-type {\n",
       "        vertical-align: middle;\n",
       "    }\n",
       "\n",
       "    .dataframe tbody tr th {\n",
       "        vertical-align: top;\n",
       "    }\n",
       "\n",
       "    .dataframe thead th {\n",
       "        text-align: right;\n",
       "    }\n",
       "</style>\n",
       "<table border=\"1\" class=\"dataframe\">\n",
       "  <thead>\n",
       "    <tr style=\"text-align: right;\">\n",
       "      <th></th>\n",
       "      <th>code_module</th>\n",
       "      <th>code_presentation</th>\n",
       "      <th>id_student</th>\n",
       "      <th>gender</th>\n",
       "      <th>region</th>\n",
       "      <th>highest_education</th>\n",
       "      <th>imd_band</th>\n",
       "      <th>age_band</th>\n",
       "      <th>num_of_prev_attempts</th>\n",
       "      <th>studied_credits</th>\n",
       "      <th>disability</th>\n",
       "      <th>final_result</th>\n",
       "      <th>score</th>\n",
       "      <th>total_clicks</th>\n",
       "      <th>at_risk</th>\n",
       "    </tr>\n",
       "  </thead>\n",
       "  <tbody>\n",
       "    <tr>\n",
       "      <th>0</th>\n",
       "      <td>AAA</td>\n",
       "      <td>2013J</td>\n",
       "      <td>11391</td>\n",
       "      <td>0</td>\n",
       "      <td>East Anglian Region</td>\n",
       "      <td>3</td>\n",
       "      <td>90.0</td>\n",
       "      <td>55&lt;=</td>\n",
       "      <td>0</td>\n",
       "      <td>240</td>\n",
       "      <td>0</td>\n",
       "      <td>Pass</td>\n",
       "      <td>82.000000</td>\n",
       "      <td>934.0</td>\n",
       "      <td>0</td>\n",
       "    </tr>\n",
       "    <tr>\n",
       "      <th>1</th>\n",
       "      <td>AAA</td>\n",
       "      <td>2013J</td>\n",
       "      <td>28400</td>\n",
       "      <td>1</td>\n",
       "      <td>Scotland</td>\n",
       "      <td>3</td>\n",
       "      <td>20.0</td>\n",
       "      <td>35-55</td>\n",
       "      <td>0</td>\n",
       "      <td>60</td>\n",
       "      <td>0</td>\n",
       "      <td>Pass</td>\n",
       "      <td>66.400000</td>\n",
       "      <td>1435.0</td>\n",
       "      <td>0</td>\n",
       "    </tr>\n",
       "    <tr>\n",
       "      <th>2</th>\n",
       "      <td>AAA</td>\n",
       "      <td>2013J</td>\n",
       "      <td>30268</td>\n",
       "      <td>1</td>\n",
       "      <td>North Western Region</td>\n",
       "      <td>2</td>\n",
       "      <td>30.0</td>\n",
       "      <td>35-55</td>\n",
       "      <td>0</td>\n",
       "      <td>60</td>\n",
       "      <td>1</td>\n",
       "      <td>Withdrawn</td>\n",
       "      <td>72.768254</td>\n",
       "      <td>281.0</td>\n",
       "      <td>1</td>\n",
       "    </tr>\n",
       "    <tr>\n",
       "      <th>3</th>\n",
       "      <td>AAA</td>\n",
       "      <td>2013J</td>\n",
       "      <td>31604</td>\n",
       "      <td>1</td>\n",
       "      <td>South East Region</td>\n",
       "      <td>2</td>\n",
       "      <td>50.0</td>\n",
       "      <td>35-55</td>\n",
       "      <td>0</td>\n",
       "      <td>60</td>\n",
       "      <td>0</td>\n",
       "      <td>Pass</td>\n",
       "      <td>76.000000</td>\n",
       "      <td>2158.0</td>\n",
       "      <td>0</td>\n",
       "    </tr>\n",
       "    <tr>\n",
       "      <th>4</th>\n",
       "      <td>AAA</td>\n",
       "      <td>2013J</td>\n",
       "      <td>32885</td>\n",
       "      <td>1</td>\n",
       "      <td>West Midlands Region</td>\n",
       "      <td>1</td>\n",
       "      <td>50.0</td>\n",
       "      <td>0-35</td>\n",
       "      <td>0</td>\n",
       "      <td>60</td>\n",
       "      <td>0</td>\n",
       "      <td>Pass</td>\n",
       "      <td>54.400000</td>\n",
       "      <td>1034.0</td>\n",
       "      <td>0</td>\n",
       "    </tr>\n",
       "  </tbody>\n",
       "</table>\n",
       "</div>"
      ],
      "text/plain": [
       "  code_module code_presentation  id_student  gender                region  \\\n",
       "0         AAA             2013J       11391       0   East Anglian Region   \n",
       "1         AAA             2013J       28400       1              Scotland   \n",
       "2         AAA             2013J       30268       1  North Western Region   \n",
       "3         AAA             2013J       31604       1     South East Region   \n",
       "4         AAA             2013J       32885       1  West Midlands Region   \n",
       "\n",
       "   highest_education  imd_band age_band  num_of_prev_attempts  \\\n",
       "0                  3      90.0     55<=                     0   \n",
       "1                  3      20.0    35-55                     0   \n",
       "2                  2      30.0    35-55                     0   \n",
       "3                  2      50.0    35-55                     0   \n",
       "4                  1      50.0     0-35                     0   \n",
       "\n",
       "   studied_credits  disability final_result      score  total_clicks  at_risk  \n",
       "0              240           0         Pass  82.000000         934.0        0  \n",
       "1               60           0         Pass  66.400000        1435.0        0  \n",
       "2               60           1    Withdrawn  72.768254         281.0        1  \n",
       "3               60           0         Pass  76.000000        2158.0        0  \n",
       "4               60           0         Pass  54.400000        1034.0        0  "
      ]
     },
     "execution_count": 5,
     "metadata": {},
     "output_type": "execute_result"
    }
   ],
   "source": [
    "def charger_donnees_oulad():\n",
    "\n",
    "    # Essayer de charger le fichier prétraité\n",
    "    df = pd.read_csv('../data/oulad_preprocessed.csv')\n",
    "    print('Jeu de données prétraité chargé depuis oulad_preprocessed.csv')\n",
    "\n",
    "    return df\n",
    "\n",
    "df = charger_donnees_oulad()\n",
    "df.head()"
   ]
  },
  {
   "cell_type": "markdown",
   "metadata": {},
   "source": [
    "## Prétraitement pour les Règles d'Association\n",
    "\n",
    "Discretiser les variables continues et convertir les données en format binaire pour l'algorithme Apriori."
   ]
  },
  {
   "cell_type": "code",
   "execution_count": 6,
   "metadata": {},
   "outputs": [
    {
     "data": {
      "application/vnd.microsoft.datawrangler.viewer.v0+json": {
       "columns": [
        {
         "name": "index",
         "rawType": "int64",
         "type": "integer"
        },
        {
         "name": "gender_Féminin",
         "rawType": "bool",
         "type": "boolean"
        },
        {
         "name": "gender_Masculin",
         "rawType": "bool",
         "type": "boolean"
        },
        {
         "name": "highest_education_A_Level",
         "rawType": "bool",
         "type": "boolean"
        },
        {
         "name": "highest_education_Aucune_Qualification",
         "rawType": "bool",
         "type": "boolean"
        },
        {
         "name": "highest_education_HE_Qualification",
         "rawType": "bool",
         "type": "boolean"
        },
        {
         "name": "highest_education_Inférieur_A_Level",
         "rawType": "bool",
         "type": "boolean"
        },
        {
         "name": "highest_education_Post_Graduate",
         "rawType": "bool",
         "type": "boolean"
        },
        {
         "name": "imd_band_cat_IMD_Faible",
         "rawType": "bool",
         "type": "boolean"
        },
        {
         "name": "imd_band_cat_IMD_Moyen",
         "rawType": "bool",
         "type": "boolean"
        },
        {
         "name": "imd_band_cat_IMD_Élevé",
         "rawType": "bool",
         "type": "boolean"
        },
        {
         "name": "score_cat_Score_Faible",
         "rawType": "bool",
         "type": "boolean"
        },
        {
         "name": "score_cat_Score_Moyen",
         "rawType": "bool",
         "type": "boolean"
        },
        {
         "name": "score_cat_Score_Élevé",
         "rawType": "bool",
         "type": "boolean"
        },
        {
         "name": "clicks_cat_Clicks_Faible",
         "rawType": "bool",
         "type": "boolean"
        },
        {
         "name": "clicks_cat_Clicks_Moyen",
         "rawType": "bool",
         "type": "boolean"
        },
        {
         "name": "clicks_cat_Clicks_Élevé",
         "rawType": "bool",
         "type": "boolean"
        },
        {
         "name": "disability_Handicapé",
         "rawType": "bool",
         "type": "boolean"
        },
        {
         "name": "disability_Non_Handicapé",
         "rawType": "bool",
         "type": "boolean"
        },
        {
         "name": "at_risk_Non_À_Risque",
         "rawType": "bool",
         "type": "boolean"
        },
        {
         "name": "at_risk_À_Risque",
         "rawType": "bool",
         "type": "boolean"
        }
       ],
       "ref": "9fa30da6-1e36-482e-9e41-9f364d89d127",
       "rows": [
        [
         "0",
         "False",
         "True",
         "False",
         "False",
         "True",
         "False",
         "False",
         "False",
         "False",
         "True",
         "False",
         "False",
         "True",
         "False",
         "True",
         "False",
         "False",
         "True",
         "True",
         "False"
        ],
        [
         "1",
         "True",
         "False",
         "False",
         "False",
         "True",
         "False",
         "False",
         "True",
         "False",
         "False",
         "True",
         "False",
         "False",
         "False",
         "False",
         "True",
         "False",
         "True",
         "True",
         "False"
        ],
        [
         "2",
         "True",
         "False",
         "True",
         "False",
         "False",
         "False",
         "False",
         "True",
         "False",
         "False",
         "True",
         "False",
         "False",
         "False",
         "True",
         "False",
         "True",
         "False",
         "False",
         "True"
        ],
        [
         "3",
         "True",
         "False",
         "True",
         "False",
         "False",
         "False",
         "False",
         "False",
         "True",
         "False",
         "False",
         "True",
         "False",
         "False",
         "False",
         "True",
         "False",
         "True",
         "True",
         "False"
        ],
        [
         "4",
         "True",
         "False",
         "False",
         "False",
         "False",
         "True",
         "False",
         "False",
         "True",
         "False",
         "True",
         "False",
         "False",
         "False",
         "True",
         "False",
         "False",
         "True",
         "True",
         "False"
        ]
       ],
       "shape": {
        "columns": 20,
        "rows": 5
       }
      },
      "text/html": [
       "<div>\n",
       "<style scoped>\n",
       "    .dataframe tbody tr th:only-of-type {\n",
       "        vertical-align: middle;\n",
       "    }\n",
       "\n",
       "    .dataframe tbody tr th {\n",
       "        vertical-align: top;\n",
       "    }\n",
       "\n",
       "    .dataframe thead th {\n",
       "        text-align: right;\n",
       "    }\n",
       "</style>\n",
       "<table border=\"1\" class=\"dataframe\">\n",
       "  <thead>\n",
       "    <tr style=\"text-align: right;\">\n",
       "      <th></th>\n",
       "      <th>gender_Féminin</th>\n",
       "      <th>gender_Masculin</th>\n",
       "      <th>highest_education_A_Level</th>\n",
       "      <th>highest_education_Aucune_Qualification</th>\n",
       "      <th>highest_education_HE_Qualification</th>\n",
       "      <th>highest_education_Inférieur_A_Level</th>\n",
       "      <th>highest_education_Post_Graduate</th>\n",
       "      <th>imd_band_cat_IMD_Faible</th>\n",
       "      <th>imd_band_cat_IMD_Moyen</th>\n",
       "      <th>imd_band_cat_IMD_Élevé</th>\n",
       "      <th>score_cat_Score_Faible</th>\n",
       "      <th>score_cat_Score_Moyen</th>\n",
       "      <th>score_cat_Score_Élevé</th>\n",
       "      <th>clicks_cat_Clicks_Faible</th>\n",
       "      <th>clicks_cat_Clicks_Moyen</th>\n",
       "      <th>clicks_cat_Clicks_Élevé</th>\n",
       "      <th>disability_Handicapé</th>\n",
       "      <th>disability_Non_Handicapé</th>\n",
       "      <th>at_risk_Non_À_Risque</th>\n",
       "      <th>at_risk_À_Risque</th>\n",
       "    </tr>\n",
       "  </thead>\n",
       "  <tbody>\n",
       "    <tr>\n",
       "      <th>0</th>\n",
       "      <td>False</td>\n",
       "      <td>True</td>\n",
       "      <td>False</td>\n",
       "      <td>False</td>\n",
       "      <td>True</td>\n",
       "      <td>False</td>\n",
       "      <td>False</td>\n",
       "      <td>False</td>\n",
       "      <td>False</td>\n",
       "      <td>True</td>\n",
       "      <td>False</td>\n",
       "      <td>False</td>\n",
       "      <td>True</td>\n",
       "      <td>False</td>\n",
       "      <td>True</td>\n",
       "      <td>False</td>\n",
       "      <td>False</td>\n",
       "      <td>True</td>\n",
       "      <td>True</td>\n",
       "      <td>False</td>\n",
       "    </tr>\n",
       "    <tr>\n",
       "      <th>1</th>\n",
       "      <td>True</td>\n",
       "      <td>False</td>\n",
       "      <td>False</td>\n",
       "      <td>False</td>\n",
       "      <td>True</td>\n",
       "      <td>False</td>\n",
       "      <td>False</td>\n",
       "      <td>True</td>\n",
       "      <td>False</td>\n",
       "      <td>False</td>\n",
       "      <td>True</td>\n",
       "      <td>False</td>\n",
       "      <td>False</td>\n",
       "      <td>False</td>\n",
       "      <td>False</td>\n",
       "      <td>True</td>\n",
       "      <td>False</td>\n",
       "      <td>True</td>\n",
       "      <td>True</td>\n",
       "      <td>False</td>\n",
       "    </tr>\n",
       "    <tr>\n",
       "      <th>2</th>\n",
       "      <td>True</td>\n",
       "      <td>False</td>\n",
       "      <td>True</td>\n",
       "      <td>False</td>\n",
       "      <td>False</td>\n",
       "      <td>False</td>\n",
       "      <td>False</td>\n",
       "      <td>True</td>\n",
       "      <td>False</td>\n",
       "      <td>False</td>\n",
       "      <td>True</td>\n",
       "      <td>False</td>\n",
       "      <td>False</td>\n",
       "      <td>False</td>\n",
       "      <td>True</td>\n",
       "      <td>False</td>\n",
       "      <td>True</td>\n",
       "      <td>False</td>\n",
       "      <td>False</td>\n",
       "      <td>True</td>\n",
       "    </tr>\n",
       "    <tr>\n",
       "      <th>3</th>\n",
       "      <td>True</td>\n",
       "      <td>False</td>\n",
       "      <td>True</td>\n",
       "      <td>False</td>\n",
       "      <td>False</td>\n",
       "      <td>False</td>\n",
       "      <td>False</td>\n",
       "      <td>False</td>\n",
       "      <td>True</td>\n",
       "      <td>False</td>\n",
       "      <td>False</td>\n",
       "      <td>True</td>\n",
       "      <td>False</td>\n",
       "      <td>False</td>\n",
       "      <td>False</td>\n",
       "      <td>True</td>\n",
       "      <td>False</td>\n",
       "      <td>True</td>\n",
       "      <td>True</td>\n",
       "      <td>False</td>\n",
       "    </tr>\n",
       "    <tr>\n",
       "      <th>4</th>\n",
       "      <td>True</td>\n",
       "      <td>False</td>\n",
       "      <td>False</td>\n",
       "      <td>False</td>\n",
       "      <td>False</td>\n",
       "      <td>True</td>\n",
       "      <td>False</td>\n",
       "      <td>False</td>\n",
       "      <td>True</td>\n",
       "      <td>False</td>\n",
       "      <td>True</td>\n",
       "      <td>False</td>\n",
       "      <td>False</td>\n",
       "      <td>False</td>\n",
       "      <td>True</td>\n",
       "      <td>False</td>\n",
       "      <td>False</td>\n",
       "      <td>True</td>\n",
       "      <td>True</td>\n",
       "      <td>False</td>\n",
       "    </tr>\n",
       "  </tbody>\n",
       "</table>\n",
       "</div>"
      ],
      "text/plain": [
       "   gender_Féminin  gender_Masculin  highest_education_A_Level  \\\n",
       "0           False             True                      False   \n",
       "1            True            False                      False   \n",
       "2            True            False                       True   \n",
       "3            True            False                       True   \n",
       "4            True            False                      False   \n",
       "\n",
       "   highest_education_Aucune_Qualification  highest_education_HE_Qualification  \\\n",
       "0                                   False                                True   \n",
       "1                                   False                                True   \n",
       "2                                   False                               False   \n",
       "3                                   False                               False   \n",
       "4                                   False                               False   \n",
       "\n",
       "   highest_education_Inférieur_A_Level  highest_education_Post_Graduate  \\\n",
       "0                                False                            False   \n",
       "1                                False                            False   \n",
       "2                                False                            False   \n",
       "3                                False                            False   \n",
       "4                                 True                            False   \n",
       "\n",
       "   imd_band_cat_IMD_Faible  imd_band_cat_IMD_Moyen  imd_band_cat_IMD_Élevé  \\\n",
       "0                    False                   False                    True   \n",
       "1                     True                   False                   False   \n",
       "2                     True                   False                   False   \n",
       "3                    False                    True                   False   \n",
       "4                    False                    True                   False   \n",
       "\n",
       "   score_cat_Score_Faible  score_cat_Score_Moyen  score_cat_Score_Élevé  \\\n",
       "0                   False                  False                   True   \n",
       "1                    True                  False                  False   \n",
       "2                    True                  False                  False   \n",
       "3                   False                   True                  False   \n",
       "4                    True                  False                  False   \n",
       "\n",
       "   clicks_cat_Clicks_Faible  clicks_cat_Clicks_Moyen  clicks_cat_Clicks_Élevé  \\\n",
       "0                     False                     True                    False   \n",
       "1                     False                    False                     True   \n",
       "2                     False                     True                    False   \n",
       "3                     False                    False                     True   \n",
       "4                     False                     True                    False   \n",
       "\n",
       "   disability_Handicapé  disability_Non_Handicapé  at_risk_Non_À_Risque  \\\n",
       "0                 False                      True                  True   \n",
       "1                 False                      True                  True   \n",
       "2                  True                     False                 False   \n",
       "3                 False                      True                  True   \n",
       "4                 False                      True                  True   \n",
       "\n",
       "   at_risk_À_Risque  \n",
       "0             False  \n",
       "1             False  \n",
       "2              True  \n",
       "3             False  \n",
       "4             False  "
      ]
     },
     "execution_count": 6,
     "metadata": {},
     "output_type": "execute_result"
    }
   ],
   "source": [
    "def discretiser_donnees(df):\n",
    "    # Discretiser les variables continues\n",
    "    df['score_cat'] = pd.qcut(df['score'], q=3, labels=['Score_Faible', 'Score_Moyen', 'Score_Élevé'])\n",
    "    df['clicks_cat'] = pd.qcut(df['total_clicks'], q=3, labels=['Clicks_Faible', 'Clicks_Moyen', 'Clicks_Élevé'])\n",
    "    df['imd_band_cat'] = pd.qcut(df['imd_band'], q=3, labels=['IMD_Faible', 'IMD_Moyen', 'IMD_Élevé'])\n",
    "    \n",
    "    # Convertir les variables catégoriques en chaînes\n",
    "    df['gender'] = df['gender'].map({0: 'Masculin', 1: 'Féminin'})\n",
    "    education_mapping = {\n",
    "        0: 'Aucune_Qualification',\n",
    "        1: 'Inférieur_A_Level',\n",
    "        2: 'A_Level',\n",
    "        3: 'HE_Qualification',\n",
    "        4: 'Post_Graduate'\n",
    "    }\n",
    "    df['highest_education'] = df['highest_education'].map(education_mapping)\n",
    "    age_mapping = {0: 'Âge_0-35', 1: 'Âge_35-55', 2: 'Âge_55+'}\n",
    "    df['age_band'] = df['age_band'].map(age_mapping)\n",
    "    df['disability'] = df['disability'].map({0: 'Non_Handicapé', 1: 'Handicapé'})\n",
    "    df['at_risk'] = df['at_risk'].map({0: 'Non_À_Risque', 1: 'À_Risque'})\n",
    "    \n",
    "    # Sélectionner les colonnes pour les règles d'association\n",
    "    columns = ['gender', 'highest_education', 'imd_band_cat', 'age_band', 'score_cat', 'clicks_cat', 'disability', 'at_risk']\n",
    "    \n",
    "    # Créer un DataFrame binaire (one-hot encoding)\n",
    "    df_binary = pd.get_dummies(df[columns])\n",
    "    \n",
    "    return df_binary\n",
    "\n",
    "df_binary = discretiser_donnees(df)\n",
    "df_binary.head()"
   ]
  },
  {
   "cell_type": "markdown",
   "metadata": {},
   "source": [
    "## Génération des Règles d'Association\n",
    "\n",
    "Appliquer l'algorithme Apriori pour trouver des itemsets fréquents et générer des règles d'association."
   ]
  },
  {
   "cell_type": "code",
   "execution_count": 7,
   "metadata": {},
   "outputs": [
    {
     "name": "stdout",
     "output_type": "stream",
     "text": [
      "Règles d'association menant à l'abandon :\n"
     ]
    },
    {
     "data": {
      "application/vnd.microsoft.datawrangler.viewer.v0+json": {
       "columns": [
        {
         "name": "index",
         "rawType": "int64",
         "type": "integer"
        },
        {
         "name": "antecedents",
         "rawType": "object",
         "type": "unknown"
        },
        {
         "name": "consequents",
         "rawType": "object",
         "type": "unknown"
        },
        {
         "name": "support",
         "rawType": "float64",
         "type": "float"
        },
        {
         "name": "confidence",
         "rawType": "float64",
         "type": "float"
        },
        {
         "name": "lift",
         "rawType": "float64",
         "type": "float"
        }
       ],
       "ref": "a2f852de-7663-4dff-a464-57bd9a13d5f2",
       "rows": [
        [
         "517",
         "frozenset({'gender_Masculin', 'clicks_cat_Clicks_Faible'})",
         "frozenset({'at_risk_À_Risque', 'disability_Non_Handicapé', 'score_cat_Score_Faible'})",
         "0.12913815850029148",
         "0.7883498782543548",
         "2.1575856563896365"
        ],
        [
         "512",
         "frozenset({'disability_Non_Handicapé', 'gender_Masculin', 'clicks_cat_Clicks_Faible'})",
         "frozenset({'at_risk_À_Risque', 'score_cat_Score_Faible'})",
         "0.12913815850029148",
         "0.8822049884720184",
         "2.136551284683348"
        ],
        [
         "350",
         "frozenset({'gender_Masculin', 'clicks_cat_Clicks_Faible'})",
         "frozenset({'at_risk_À_Risque', 'score_cat_Score_Faible'})",
         "0.1442947872242506",
         "0.8808765686458138",
         "2.133334076524967"
        ],
        [
         "538",
         "frozenset({'disability_Non_Handicapé', 'highest_education_Inférieur_A_Level', 'clicks_cat_Clicks_Faible'})",
         "frozenset({'at_risk_À_Risque', 'score_cat_Score_Faible'})",
         "0.11695762893872917",
         "0.8469229060208843",
         "2.051104047848022"
        ],
        [
         "438",
         "frozenset({'highest_education_Inférieur_A_Level', 'clicks_cat_Clicks_Faible'})",
         "frozenset({'at_risk_À_Risque', 'score_cat_Score_Faible'})",
         "0.13370969226521032",
         "0.8453928225024248",
         "2.0473984443321096"
        ],
        [
         "460",
         "frozenset({'imd_band_cat_IMD_Faible', 'clicks_cat_Clicks_Faible'})",
         "frozenset({'at_risk_À_Risque', 'score_cat_Score_Faible'})",
         "0.14079710367256773",
         "0.8426367976496512",
         "2.0407238182341416"
        ],
        [
         "549",
         "frozenset({'disability_Non_Handicapé', 'imd_band_cat_IMD_Faible', 'clicks_cat_Clicks_Faible'})",
         "frozenset({'at_risk_À_Risque', 'score_cat_Score_Faible'})",
         "0.12220415426625349",
         "0.8424280879864636",
         "2.0402183587266167"
        ],
        [
         "542",
         "frozenset({'highest_education_Inférieur_A_Level', 'clicks_cat_Clicks_Faible'})",
         "frozenset({'at_risk_À_Risque', 'disability_Non_Handicapé', 'score_cat_Score_Faible'})",
         "0.11695762893872917",
         "0.7394762366634335",
         "2.02382643224211"
        ],
        [
         "486",
         "frozenset({'clicks_cat_Clicks_Faible'})",
         "frozenset({'at_risk_À_Risque', 'score_cat_Score_Faible', 'disability_Non_Handicapé'})",
         "0.24471512287914582",
         "0.7329535011946333",
         "2.0059747639966985"
        ],
        [
         "553",
         "frozenset({'imd_band_cat_IMD_Faible', 'clicks_cat_Clicks_Faible'})",
         "frozenset({'at_risk_À_Risque', 'disability_Non_Handicapé', 'score_cat_Score_Faible'})",
         "0.12220415426625349",
         "0.731362467866324",
         "2.0016203640244434"
        ]
       ],
       "shape": {
        "columns": 5,
        "rows": 10
       }
      },
      "text/html": [
       "<div>\n",
       "<style scoped>\n",
       "    .dataframe tbody tr th:only-of-type {\n",
       "        vertical-align: middle;\n",
       "    }\n",
       "\n",
       "    .dataframe tbody tr th {\n",
       "        vertical-align: top;\n",
       "    }\n",
       "\n",
       "    .dataframe thead th {\n",
       "        text-align: right;\n",
       "    }\n",
       "</style>\n",
       "<table border=\"1\" class=\"dataframe\">\n",
       "  <thead>\n",
       "    <tr style=\"text-align: right;\">\n",
       "      <th></th>\n",
       "      <th>antecedents</th>\n",
       "      <th>consequents</th>\n",
       "      <th>support</th>\n",
       "      <th>confidence</th>\n",
       "      <th>lift</th>\n",
       "    </tr>\n",
       "  </thead>\n",
       "  <tbody>\n",
       "    <tr>\n",
       "      <th>517</th>\n",
       "      <td>(gender_Masculin, clicks_cat_Clicks_Faible)</td>\n",
       "      <td>(at_risk_À_Risque, disability_Non_Handicapé, s...</td>\n",
       "      <td>0.129138</td>\n",
       "      <td>0.788350</td>\n",
       "      <td>2.157586</td>\n",
       "    </tr>\n",
       "    <tr>\n",
       "      <th>512</th>\n",
       "      <td>(disability_Non_Handicapé, gender_Masculin, cl...</td>\n",
       "      <td>(at_risk_À_Risque, score_cat_Score_Faible)</td>\n",
       "      <td>0.129138</td>\n",
       "      <td>0.882205</td>\n",
       "      <td>2.136551</td>\n",
       "    </tr>\n",
       "    <tr>\n",
       "      <th>350</th>\n",
       "      <td>(gender_Masculin, clicks_cat_Clicks_Faible)</td>\n",
       "      <td>(at_risk_À_Risque, score_cat_Score_Faible)</td>\n",
       "      <td>0.144295</td>\n",
       "      <td>0.880877</td>\n",
       "      <td>2.133334</td>\n",
       "    </tr>\n",
       "    <tr>\n",
       "      <th>538</th>\n",
       "      <td>(disability_Non_Handicapé, highest_education_I...</td>\n",
       "      <td>(at_risk_À_Risque, score_cat_Score_Faible)</td>\n",
       "      <td>0.116958</td>\n",
       "      <td>0.846923</td>\n",
       "      <td>2.051104</td>\n",
       "    </tr>\n",
       "    <tr>\n",
       "      <th>438</th>\n",
       "      <td>(highest_education_Inférieur_A_Level, clicks_c...</td>\n",
       "      <td>(at_risk_À_Risque, score_cat_Score_Faible)</td>\n",
       "      <td>0.133710</td>\n",
       "      <td>0.845393</td>\n",
       "      <td>2.047398</td>\n",
       "    </tr>\n",
       "    <tr>\n",
       "      <th>460</th>\n",
       "      <td>(imd_band_cat_IMD_Faible, clicks_cat_Clicks_Fa...</td>\n",
       "      <td>(at_risk_À_Risque, score_cat_Score_Faible)</td>\n",
       "      <td>0.140797</td>\n",
       "      <td>0.842637</td>\n",
       "      <td>2.040724</td>\n",
       "    </tr>\n",
       "    <tr>\n",
       "      <th>549</th>\n",
       "      <td>(disability_Non_Handicapé, imd_band_cat_IMD_Fa...</td>\n",
       "      <td>(at_risk_À_Risque, score_cat_Score_Faible)</td>\n",
       "      <td>0.122204</td>\n",
       "      <td>0.842428</td>\n",
       "      <td>2.040218</td>\n",
       "    </tr>\n",
       "    <tr>\n",
       "      <th>542</th>\n",
       "      <td>(highest_education_Inférieur_A_Level, clicks_c...</td>\n",
       "      <td>(at_risk_À_Risque, disability_Non_Handicapé, s...</td>\n",
       "      <td>0.116958</td>\n",
       "      <td>0.739476</td>\n",
       "      <td>2.023826</td>\n",
       "    </tr>\n",
       "    <tr>\n",
       "      <th>486</th>\n",
       "      <td>(clicks_cat_Clicks_Faible)</td>\n",
       "      <td>(at_risk_À_Risque, score_cat_Score_Faible, dis...</td>\n",
       "      <td>0.244715</td>\n",
       "      <td>0.732954</td>\n",
       "      <td>2.005975</td>\n",
       "    </tr>\n",
       "    <tr>\n",
       "      <th>553</th>\n",
       "      <td>(imd_band_cat_IMD_Faible, clicks_cat_Clicks_Fa...</td>\n",
       "      <td>(at_risk_À_Risque, disability_Non_Handicapé, s...</td>\n",
       "      <td>0.122204</td>\n",
       "      <td>0.731362</td>\n",
       "      <td>2.001620</td>\n",
       "    </tr>\n",
       "  </tbody>\n",
       "</table>\n",
       "</div>"
      ],
      "text/plain": [
       "                                           antecedents  \\\n",
       "517        (gender_Masculin, clicks_cat_Clicks_Faible)   \n",
       "512  (disability_Non_Handicapé, gender_Masculin, cl...   \n",
       "350        (gender_Masculin, clicks_cat_Clicks_Faible)   \n",
       "538  (disability_Non_Handicapé, highest_education_I...   \n",
       "438  (highest_education_Inférieur_A_Level, clicks_c...   \n",
       "460  (imd_band_cat_IMD_Faible, clicks_cat_Clicks_Fa...   \n",
       "549  (disability_Non_Handicapé, imd_band_cat_IMD_Fa...   \n",
       "542  (highest_education_Inférieur_A_Level, clicks_c...   \n",
       "486                         (clicks_cat_Clicks_Faible)   \n",
       "553  (imd_band_cat_IMD_Faible, clicks_cat_Clicks_Fa...   \n",
       "\n",
       "                                           consequents   support  confidence  \\\n",
       "517  (at_risk_À_Risque, disability_Non_Handicapé, s...  0.129138    0.788350   \n",
       "512         (at_risk_À_Risque, score_cat_Score_Faible)  0.129138    0.882205   \n",
       "350         (at_risk_À_Risque, score_cat_Score_Faible)  0.144295    0.880877   \n",
       "538         (at_risk_À_Risque, score_cat_Score_Faible)  0.116958    0.846923   \n",
       "438         (at_risk_À_Risque, score_cat_Score_Faible)  0.133710    0.845393   \n",
       "460         (at_risk_À_Risque, score_cat_Score_Faible)  0.140797    0.842637   \n",
       "549         (at_risk_À_Risque, score_cat_Score_Faible)  0.122204    0.842428   \n",
       "542  (at_risk_À_Risque, disability_Non_Handicapé, s...  0.116958    0.739476   \n",
       "486  (at_risk_À_Risque, score_cat_Score_Faible, dis...  0.244715    0.732954   \n",
       "553  (at_risk_À_Risque, disability_Non_Handicapé, s...  0.122204    0.731362   \n",
       "\n",
       "         lift  \n",
       "517  2.157586  \n",
       "512  2.136551  \n",
       "350  2.133334  \n",
       "538  2.051104  \n",
       "438  2.047398  \n",
       "460  2.040724  \n",
       "549  2.040218  \n",
       "542  2.023826  \n",
       "486  2.005975  \n",
       "553  2.001620  "
      ]
     },
     "execution_count": 7,
     "metadata": {},
     "output_type": "execute_result"
    }
   ],
   "source": [
    "# Générer les itemsets fréquents avec Apriori\n",
    "frequent_itemsets = apriori(df_binary, min_support=0.1, use_colnames=True)\n",
    "\n",
    "# Générer les règles d'association\n",
    "rules = association_rules(frequent_itemsets, metric='confidence', min_threshold=0.5)\n",
    "\n",
    "# Filtrer les règles avec 'À_Risque' dans le conséquent\n",
    "rules_at_risk = rules[rules['consequents'].apply(lambda x: 'at_risk_À_Risque' in x)]\n",
    "\n",
    "# Trier par lift\n",
    "rules_at_risk = rules_at_risk.sort_values(by='lift', ascending=False)\n",
    "\n",
    "# Afficher les règles\n",
    "print('Règles d\\'association menant à l\\'abandon :')\n",
    "rules_at_risk[['antecedents', 'consequents', 'support', 'confidence', 'lift']].head(10)"
   ]
  },
  {
   "cell_type": "markdown",
   "metadata": {},
   "source": [
    "## Visualisation des Règles\n",
    "\n",
    "Visualiser les règles sous forme de tableau et une heatmap des co-occurrences."
   ]
  },
  {
   "cell_type": "code",
   "execution_count": 8,
   "metadata": {},
   "outputs": [
    {
     "data": {
      "image/png": "[encoded data removed]",
      "text/plain": [
       "<Figure size 1000x800 with 2 Axes>"
      ]
     },
     "metadata": {},
     "output_type": "display_data"
    }
   ],
   "source": [
    "# Afficher un tableau stylisé\n",
    "st_rules = rules_at_risk[['antecedents', 'consequents', 'support', 'confidence', 'lift']].head(10)\n",
    "st_rules['antecedents'] = st_rules['antecedents'].apply(lambda x: ', '.join(list(x)))\n",
    "st_rules['consequents'] = st_rules['consequents'].apply(lambda x: ', '.join(list(x)))\n",
    "st_rules.style.set_caption('Top 10 Règles d\\'Association menant à l\\'Abandon')\n",
    "\n",
    "# Heatmap des co-occurrences\n",
    "plt.figure(figsize=(10, 8))\n",
    "corr = df_binary.corr()\n",
    "sns.heatmap(corr, cmap='coolwarm', center=0)\n",
    "plt.title('Heatmap des Co-occurrences des Caractéristiques')\n",
    "plt.show()"
   ]
  },
  {
   "cell_type": "markdown",
   "metadata": {},
   "source": [
    "## Sauvegarde des Règles\n",
    "\n",
    "Sauvegarder les règles d'association dans un fichier CSV pour une utilisation future."
   ]
  },
  {
   "cell_type": "code",
   "execution_count": 9,
   "metadata": {},
   "outputs": [
    {
     "name": "stdout",
     "output_type": "stream",
     "text": [
      "Règles d'association sauvegardées sous association_rules_at_risk.csv\n"
     ]
    }
   ],
   "source": [
    "# Sauvegarder les règles\n",
    "rules_at_risk.to_csv('association_rules_at_risk.csv', index=False)\n",
    "print('Règles d\\'association sauvegardées sous association_rules_at_risk.csv')"
   ]
  }
 ],
 "metadata": {
  "kernelspec": {
   "display_name": "env",
   "language": "python",
   "name": "python3"
  },
  "language_info": {
   "codemirror_mode": {
    "name": "ipython",
    "version": 3
   },
   "file_extension": ".py",
   "mimetype": "text/x-python",
   "name": "python",
   "nbconvert_exporter": "python",
   "pygments_lexer": "ipython3",
   "version": "3.12.3"
  }
 },
 "nbformat": 4,
 "nbformat_minor": 4
}
